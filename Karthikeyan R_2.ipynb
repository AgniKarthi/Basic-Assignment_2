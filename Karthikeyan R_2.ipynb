   "Que-1) Take a number between 0 to 10 from user and Check if a given number already exists in a dictionary as a key or not. Here is the dictionary.\n",
    
    "dictionaryName = {1: 10, 2: 20, 3: 30, 4: 40, 5: 50, 6: 60}\n"
   
   
   "source": [	dictionaryName = {1: 10, 2: 20, 3: 30, 4: 40, 5: 50, 6: 60}
				a=eval(input("Enter a number between 0 to 10 : "))
				if a in dictionaryName:
					print ("Given number already exists")
				else:
					print("Given number not in Dictionary")
					
	"outputs": [Enter a number between 0 to 10 : 2
				Given number already exists
				
				Enter a number between 0 to 10 : 7
				Given number not in Dictionary]

  

    "Que-2) Write a Python script to concatenate following dictionaries to create a new one.\n",
    "\n",
    "dic1={1:10, 2:20}, dic2={3:30, 4:40}, dic3={5:50,6:60}\n"

   
   "source": [	dic1={1:10, 2:20}
				dic2={3:30, 4:40}
				dic3={5:50, 6:60}
				dic1.update(dic2)
				dic1.update(dic3)
				print(dic1)
				
	"outputs": [{1: 10, 2: 20, 3: 30, 4: 40, 5: 50, 6: 60}]


    "Que-3) Create a Dictionay where you have to take 5 numbers from user and store them as key, and their value should be square of those keys.\n",
    "\n",
    "Example: If user enters these 5 numbers: 2,3,4,5,6, then your dictionay should look like this:\n",
    "\n",
    "result = {2:4, 3:9, 4:16, 5:25, 6:36}"
   ]
  },
  {
   "cell_type": "code",
   "execution_count": null,
   "metadata": {
    "id": "sX7ITeE8iaiw"
   },
   "outputs": [	Enter a number : 2
				Enter a number : 3
				Enter a number : 4
				Enter a number : 5
				Enter a number : 6
				{2: 4, 3: 9, 4: 16, 5: 25, 6: 36}
],
   
   "source": [
   
				b={}
				for i in range(0,5):
					a=eval(input("Enter a number : "))
					b[a]=a**2
				print(b)
   
   ]
  },
  {
   "cell_type": "markdown",
   "metadata": {
    "id": "E7EpFyFPims3"
   },
   "source": [
    "Que-4) Find numbers which have 13 as factor for below list: \n",
    "\n",
    "numbers = [13, 5, 9, 25, 65, 71, 81, 91]\n"
   ]
  },
  {
   "cell_type": "code",
   "execution_count": null,
   "metadata": {
    "id": "gxPcW0Yii1oj"
   },
   "outputs": [	13
				65
				91],
   "source": [
   
		   numbers = [13, 5, 9, 25, 65, 71, 81, 91, 26]
			for i in numbers:
				if i % 13==0:
					print(i)
   
	]
  },
  {
   "cell_type": "markdown",
   "metadata": {
    "id": "7p0iHLF3i1zN"
   },
   "source": [
    "Que-5) Given a list of words, tell if they are palindrome or not.\n",
    "\n",
    "palindrome_word_list = ['121', 'naman', '551', 'loop', 'LOL', 'Madam', '66c66', 'SOON', 'noon']\n",
    "\n",
    "If a particular element in a given list is palindrome, then print that element followed by 'YES' otherwise 'NO'.\n"
   ]
  },
  {
   "cell_type": "code",
   "execution_count": null,
   "metadata": {
    "id": "5cQvpoO8jDzf"
   },
   "outputs": [	121  is Palindrome
				naman  is Palindrome
				551  is not a Palindrome
				loop  is not a Palindrome
				LOL  is Palindrome
				Madam  is not a Palindrome
				66c66  is Palindrome
				SOON  is not a Palindrome
				noon  is Palindrome
],
   
   
   "source": [
   
				palindrome = ['121', 'naman', '551', 'loop', 'LOL', 'Madam', '66c66', 'SOON', 'noon']
				for i in palindrome:
					if i==i[::-1]:
						print(i, " is Palindrome")
					else:
						print(i, " is not a Palindrome")

   
   ]
  },
  {
   "cell_type": "markdown",
   "metadata": {
    "id": "S6oBLjELjD98"
   },
   "source": [
    "Que-6) Below, product and their prices are given in different list. Convert them into dictionary in such a way that product item will be keys and their prices as values.\n",
    "\n",
    "Ask a user from given a list of products, which product he would like to buy. You have to add 20% gst on electronic products and 5% on non-electronic and show them the final price, according to the demand.\n",
    "\n",
    "product = [\"gold\", \"mobile\", \"refrigerator\", \"ac\", \"coat\", \"shirt\", \"nail polish\", \"shoes\"]\n",
    "\n",
    "price = [40000, 11999, 5459, 7899, 849, 659, 399, 4499]\n"
   ]
  },
  {
   "cell_type": "code",
   "execution_count": null,
   "metadata": {
    "id": "vC5L11u4j7Im"
   },
   "outputs": [	['gold', 'mobile', 'refrigerator', 'ac', 'coat', 'shirt', 'nail polish', 'shoes']
				Enter any one of the product from above list : shirt
				691.95]
   
   
   "source": [
   
			product = ["gold", "mobile", "refrigerator", "ac", "coat", "shirt", "nail polish", "shoes"]
			price = [40000, 11999, 5459, 7899, 849, 659, 399, 4499]
			combine=dict(zip(product, price))
			##print(combine)
			print(product)
			a=input("Enter any one of the product from above list : ")
			if a=="mobile" or a=="refrigerator" or a=="ac":
				b=combine[a]*20/100
				b=combine[a]+b
				print(b)
			else:
				b=combine[a]*5/100
				b=combine[a]+b
				print(b)
			   
   ]
  },
  {
   "cell_type": "markdown",
   "metadata": {
    "id": "RJTxs3eSlF0C"
   },
   "source": [
    "Que-7) Take the name of 4 employees from user and add them to the list 'Employees'."
   
     
   "source": [	a=input("Enter a name : ")
				b=input("Enter a name : ")
				c=input("Enter a name : ")
				d=input("Enter a name : ")
				employees=[a,b,c,d]
				print("Employees are : ",employees)]
	
	"outputs": [Enter a name : Karthi
				Enter a name : Vicky
				Enter a name : Vijay
				Enter a name : Arul
				Employees are :  ['Karthi', 'Vicky', 'Vijay', 'Arul']]
  
  
  {
   "cell_type": "markdown",
   "metadata": {
    "id": "XVkqD-zulkAD"
   },
   "source": [
    "Que-8) Write a Python program to find those numbers which are divisible by 7 and multiple of 5, between 1500 and 2700 (both included)"
   ]
  },
  {
   "cell_type": "code",
   "execution_count": null,
   "metadata": {
    "id": "771fsLKzl_Yb"
   },
   
   "outputs": [
   
					1505
					1540
					1575
					1610
					1645
					1680
					1715
					1750
					1785
					1820
					1855
					1890
					1925
					1960
					1995
					2030
					2065
					2100
					2135
					2170
					2205
					2240
					2275
					2310
					2345
					2380
					2415
					2450
					2485
					2520
					2555
					2590
					2625
					2660
					2695
   
   ],
   "source": [
   
   for i in range(1500,2701):
    if i%7==0 and i%5==0:
        print(i)   
   
   ]
  },
  {
   "cell_type": "markdown",
   "metadata": {
    "id": "EToeU4Grl_i1"
   },
   "source": [
    "Que-9) Write a program to check whether a person should go out for a tour or not. You have to take the day and temperature from the user to decide. Print 'Yes' or 'No' according to the condition.\n",
    "\n",
    "Condition For going tour \n",
    "1. The Day Should be Saturday or Sunday. \n",
    "2. The Day temp should be between 20 C to 30 C"
   ]
  },
  {
   "cell_type": "code",
   "execution_count": null,
   "metadata": {
    "id": "zB31V61tmqga"
   },
   "outputs": [	Enter a day : Saturday
				Enter temperature : 25
				Yo can go out

				D:\Decodr\Assign>Notebook.py
				Enter a day : Saturday
				Enter temperature : 33
				Yo cant go out

				D:\Decodr\Assign>Notebook.py
				Enter a day : Friday
				This day is not an weekend
],
   "source": [
   
	a=input("Enter a day : ")
	if a=="Saturday" or a=="saturday" or a=="Sunday" or a=="sunday":
		b=eval(input("Enter temperature : "))
		if b in range(20,30):
			print("Yo can go out")
		else:
			print("Yo cant go out")
	else:
		print("This is not an weekend")
   
   ]
  },
  {
   "cell_type": "markdown",
   "metadata": {
    "id": "3pEBL-Kwm0UF"
   },
   "source": [
    "Que-10) From the user take two numbers as start and end, and print the prime numbers between the given range (both limits exclusive). (This question is optional)."
   ]
  },
  {
   "cell_type": "code",
   "execution_count": null,
   "metadata": {
    "id": "6hHVcmpYncEt"
   },
	   "outputs": [	Enter first number : 1
					Enter second number : 11
					Prime numbers between 1 and 11 are :
					2
					3
					5
					7
					11],
   "source": [
   
		a=eval(input("Enter first number : "))
		b=eval(input("Enter second number : "))
		b=b+1
		print("Prime numbers between", a, "and", b, "are : ")

		for num in range(a, b):
		   # all prime numbers are greater than 1
		   if num > 1:
			   for i in range(2, num):
				   if (num % i) == 0:
					   break
			   else:
				   print(num)
				   
				   
				   
				   
			a=eval(input("Enter first number : "))
			b=eval(input("Enter second number : "))
			##b=b+1
			ans=[]

			for num in range(a, b):
			# all prime numbers are greater than 1
				if num > 1:
					for i in range(2, num):
						if (num % i) == 0:
							break
					else:
						ans.append(num)
			print (ans)

   
   ]
  }
 ],
 "metadata": {
  "colab": {
   "name": "Home_assign_3.ipynb",
   "provenance": []
  },
  "kernelspec": {
   "display_name": "Python 3",
   "language": "python",
   "name": "python3"
  },
  "language_info": {
   "codemirror_mode": {
    "name": "ipython",
    "version": 3
   },
   "file_extension": ".py",
   "mimetype": "text/x-python",
   "name": "python",
   "nbconvert_exporter": "python",
   "pygments_lexer": "ipython3",
   "version": "3.8.8"
  }
 },
 "nbformat": 4,
 "nbformat_minor": 1
}
